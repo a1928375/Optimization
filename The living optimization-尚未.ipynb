{
 "cells": [
  {
   "cell_type": "markdown",
   "metadata": {},
   "source": [
    "# Mine"
   ]
  },
  {
   "cell_type": "code",
   "execution_count": null,
   "metadata": {},
   "outputs": [],
   "source": []
  },
  {
   "cell_type": "markdown",
   "metadata": {},
   "source": [
    "# Instructor"
   ]
  },
  {
   "cell_type": "code",
   "execution_count": 1,
   "metadata": {},
   "outputs": [
    {
     "name": "stdout",
     "output_type": "stream",
     "text": [
      "True\n",
      "True\n",
      "True\n",
      "True\n"
     ]
    }
   ],
   "source": [
    "def removedead(fragment,returned): \n",
    "\n",
    "    new_fragment = []\n",
    "    \n",
    "    live = returned\n",
    "    \n",
    "    for stmt in fragment[::-1]: # work line by line backwards => to keep last appearing ele \n",
    "    \n",
    "        if stmt[0] in live:    # if the LHS of this statement, the variable to which we are assigning\n",
    "        \n",
    "            new_fragment = [stmt] + new_fragment # add this statement to the new, optimized fragment => add ele in reverse order\n",
    "            \n",
    "        live = [ x for x in live if x != stmt[0] ] # update the live list => delete the ele that has been explored\n",
    "        \n",
    "        live = live + stmt[1] # update the live list with the list of variables on the RHS => finally would leave all the numbers\n",
    "        \n",
    "    if new_fragment == fragment:\n",
    "        \n",
    "        return new_fragment # if we didn't change anything, return and stop\n",
    "        \n",
    "    else:\n",
    "        \n",
    "        return removedead(new_fragment, returned)  # recursive call to check the new_fragment\n",
    "                \n",
    "\n",
    "fragment1 = [ (\"a\", [\"1\"]), \n",
    "              (\"b\", [\"2\"]), \n",
    "              (\"c\", [\"3\"]), \n",
    "              (\"d\", [\"4\"]), \n",
    "              (\"a\", [\"5\"]), \n",
    "              (\"d\", [\"c\",\"b\"]), ]\n",
    "\n",
    "\n",
    "print (removedead(fragment1, [\"a\",\"d\"]) == \\\n",
    "        [('b', ['2']), \n",
    "         ('c', ['3']), \n",
    "         ('a', ['5']), \n",
    "         ('d', ['c', 'b'])])\n",
    "\n",
    "print (removedead(fragment2, [\"c\"]) == [('c', ['2'])])\n",
    "\n",
    "print (removedead(fragment1, [\"a\"]) == [('a', ['5'])])\n",
    "\n",
    "print (removedead(fragment1, [\"d\"]) == \\\n",
    "        [('b', ['2']), \n",
    "         ('c', ['3']), \n",
    "         ('d', ['c', 'b'])])\n"
   ]
  }
 ],
 "metadata": {
  "kernelspec": {
   "display_name": "Python 3",
   "language": "python",
   "name": "python3"
  },
  "language_info": {
   "codemirror_mode": {
    "name": "ipython",
    "version": 3
   },
   "file_extension": ".py",
   "mimetype": "text/x-python",
   "name": "python",
   "nbconvert_exporter": "python",
   "pygments_lexer": "ipython3",
   "version": "3.7.3"
  }
 },
 "nbformat": 4,
 "nbformat_minor": 2
}
