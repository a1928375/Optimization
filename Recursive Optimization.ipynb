{
 "cells": [
  {
   "cell_type": "markdown",
   "metadata": {},
   "source": [
    "# Mine-只optimize b"
   ]
  },
  {
   "cell_type": "code",
   "execution_count": 1,
   "metadata": {},
   "outputs": [
    {
     "name": "stdout",
     "output_type": "stream",
     "text": [
      "True\n",
      "True\n",
      "True\n",
      "True\n"
     ]
    }
   ],
   "source": [
    "# Optimization Phase\n",
    "\n",
    "def optimize(tree): # Expression trees only\n",
    "\n",
    "    etype = tree[0]\n",
    "    \n",
    "    if etype == \"number\":\n",
    "        \n",
    "        return tree\n",
    "    \n",
    "    if etype == \"binop\":\n",
    "        \n",
    "        # Fix this code so that it handles a + ( 5 * 0 )\n",
    "        # recursively! QUIZ!\n",
    "        \n",
    "        a = tree[1]\n",
    "        op = tree[2]\n",
    "        b = tree[3]\n",
    "        \n",
    "        if op == \"*\" and optimize(b) == (\"number\",\"1\"):\n",
    "            \n",
    "            return a\n",
    "            \n",
    "        elif op == \"*\" and optimize(b) == (\"number\",\"0\"):\n",
    "            \n",
    "            return b\n",
    "            \n",
    "        elif op == \"+\" and optimize(b) == (\"number\",\"0\"):\n",
    "            \n",
    "            return a\n",
    "            \n",
    "        return tree\n",
    "    \n",
    "\n",
    "print (optimize((\"binop\",(\"number\",\"5\"),\"*\",(\"number\",\"1\"))) == (\"number\",\"5\"))\n",
    "print (optimize((\"binop\",(\"number\",\"5\"),\"*\",(\"number\",\"0\"))) == (\"number\",\"0\"))\n",
    "print (optimize((\"binop\",(\"number\",\"5\"),\"+\",(\"number\",\"0\"))) == (\"number\",\"5\"))\n",
    "print (optimize((\"binop\",(\"number\",\"5\"),\"+\",(\"binop\",(\"number\",\"5\"),\"*\",(\"number\",\"0\")))) == (\"number\",\"5\"))\n"
   ]
  },
  {
   "cell_type": "markdown",
   "metadata": {},
   "source": [
    "# Instructor-optimize a & b"
   ]
  },
  {
   "cell_type": "code",
   "execution_count": 3,
   "metadata": {},
   "outputs": [],
   "source": [
    "def optimize(tree):\n",
    "    \n",
    "    etype = tree[0]\n",
    "    \n",
    "    if etype == \"binop\":\n",
    "\n",
    "        a = optimize(tree[1])\n",
    "        op = tree[2]\n",
    "        b = optimize(tree[3])\n",
    "        \n",
    "        if op == \"*\" and b == (\"number\",\"1\"):\n",
    "            \n",
    "            return a\n",
    "            \n",
    "        elif op == \"*\" and b == (\"number\",\"0\"):\n",
    "            \n",
    "            return (\"number\",\"0\")\n",
    "            \n",
    "        elif op == \"+\" and b == (\"number\",\"0\"):\n",
    "            \n",
    "            return a\n",
    "            \n",
    "        return tree\n",
    "    \n",
    "    return tree \n"
   ]
  }
 ],
 "metadata": {
  "kernelspec": {
   "display_name": "Python 3",
   "language": "python",
   "name": "python3"
  },
  "language_info": {
   "codemirror_mode": {
    "name": "ipython",
    "version": 3
   },
   "file_extension": ".py",
   "mimetype": "text/x-python",
   "name": "python",
   "nbconvert_exporter": "python",
   "pygments_lexer": "ipython3",
   "version": "3.7.3"
  }
 },
 "nbformat": 4,
 "nbformat_minor": 2
}
